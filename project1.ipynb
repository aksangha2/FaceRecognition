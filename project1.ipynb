{
 "cells": [
  {
   "cell_type": "code",
   "execution_count": 1,
   "metadata": {},
   "outputs": [
    {
     "name": "stdout",
     "output_type": "stream",
     "text": [
      "enter your namebhav\n",
      "taking picture 0\n",
      "taking picture 1\n",
      "taking picture 2\n",
      "taking picture 3\n",
      "taking picture 4\n",
      "taking picture 5\n",
      "taking picture 6\n",
      "taking picture 7\n",
      "taking picture 8\n",
      "taking picture 9\n",
      "taking picture 10\n",
      "taking picture 11\n",
      "taking picture 12\n",
      "taking picture 13\n",
      "taking picture 14\n",
      "taking picture 15\n",
      "taking picture 16\n",
      "taking picture 17\n",
      "taking picture 18\n",
      "taking picture 19\n",
      "taking picture 20\n",
      "taking picture 21\n",
      "taking picture 22\n",
      "taking picture 23\n",
      "total faces 24\n",
      "saved at facedata/bhav.npy\n",
      "(24, 30000)\n"
     ]
    }
   ],
   "source": [
    "import cv2\n",
    "import numpy as np\n",
    "#read a video stream and display it\n",
    "#camera object\n",
    "cam=cv2.VideoCapture(0)\n",
    "face_cascade=cv2.CascadeClassifier('haarcascade_frontalface_alt.xml')\n",
    "face_data=[]\n",
    "count=0\n",
    "user_name=input(\"enter your name\")\n",
    "while True:\n",
    "  ret,frame=cam.read()\n",
    "  if ret==False:\n",
    "   print(\"something went wrong!\")\n",
    "   continue\n",
    "\n",
    "  key_pressed=cv2.waitKey(1)&0xFF #bitmasking #waitkey tells time after which image is to be taken\n",
    "  if key_pressed==ord('q'):#ord-->ascii value(8 bit)\n",
    "   break\n",
    "  faces=face_cascade.detectMultiScale(frame,1.3,5)\n",
    "  #bright_image=frame+100\n",
    "  if(len(faces)==0):\n",
    "        cv2.imshow(\"video\",frame)\n",
    "        continue\n",
    "  for face in faces:\n",
    "     x,y,w,h=face\n",
    "     face_section=frame[y-10:y+h+10,x-10:x+w+10];\n",
    "     face_section=cv2.resize(face_section,(100,100))\n",
    "     cv2.rectangle(frame,(x,y),(x+w,y+h),(0,255,255),2)\n",
    "     if count%10==0:\n",
    "            print(\"taking picture\",int(count/10))\n",
    "            face_data.append(face_section)\n",
    "     count+=1\n",
    "  gray=cv2.cvtColor(frame,cv2.COLOR_BGR2GRAY)\n",
    "  cv2.imshow(\"video\",frame)\n",
    "  #cv2.imshow(\"video bright\",bright_image)\n",
    "  cv2.imshow(\"video gray\",face_section)\n",
    "print(\"total faces\",len(face_data))\n",
    "face_data=np.array(face_data)\n",
    "face_data=face_data.reshape((face_data.shape[0],-1))\n",
    "np.save(\"facedata/\"+user_name+\".npy\",face_data)\n",
    "print(\"saved at facedata/\"+user_name+\".npy\") \n",
    "print(face_data.shape)\n",
    "\n",
    "cam.release()\n",
    "cv2.destroyAllWindows()"
   ]
  },
  {
   "cell_type": "code",
   "execution_count": null,
   "metadata": {},
   "outputs": [],
   "source": []
  },
  {
   "cell_type": "code",
   "execution_count": null,
   "metadata": {},
   "outputs": [],
   "source": []
  }
 ],
 "metadata": {
  "kernelspec": {
   "display_name": "Python 3",
   "language": "python",
   "name": "python3"
  },
  "language_info": {
   "codemirror_mode": {
    "name": "ipython",
    "version": 3
   },
   "file_extension": ".py",
   "mimetype": "text/x-python",
   "name": "python",
   "nbconvert_exporter": "python",
   "pygments_lexer": "ipython3",
   "version": "3.7.2"
  }
 },
 "nbformat": 4,
 "nbformat_minor": 2
}
